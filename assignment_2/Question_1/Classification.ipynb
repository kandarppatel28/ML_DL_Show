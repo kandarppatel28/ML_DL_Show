{
  "cells": [
    {
      "metadata": {
        "collapsed": true
      },
      "cell_type": "markdown",
      "source": "# The Machine Learning & Deep Learning Show"
    },
    {
      "metadata": {},
      "cell_type": "markdown",
      "source": "#### By Vedant Bahel & Harsh Aryan"
    },
    {
      "metadata": {
        "trusted": true
      },
      "cell_type": "code",
      "source": "#importing lib\nimport numpy as np\nimport pandas as pd",
      "execution_count": 1,
      "outputs": []
    },
    {
      "metadata": {
        "trusted": true
      },
      "cell_type": "code",
      "source": "#importing data\ndataset= pd.read_csv(\"IRIS.csv\")",
      "execution_count": 2,
      "outputs": []
    },
    {
      "metadata": {
        "trusted": true
      },
      "cell_type": "code",
      "source": "print(dataset.head(5))",
      "execution_count": 3,
      "outputs": [
        {
          "output_type": "stream",
          "text": "   sepal_length  sepal_width  petal_length  petal_width      species\n0           5.1          3.5           1.4          0.2  Iris-setosa\n1           4.9          3.0           1.4          0.2  Iris-setosa\n2           4.7          3.2           1.3          0.2  Iris-setosa\n3           4.6          3.1           1.5          0.2  Iris-setosa\n4           5.0          3.6           1.4          0.2  Iris-setosa\n",
          "name": "stdout"
        }
      ]
    },
    {
      "metadata": {
        "trusted": true
      },
      "cell_type": "code",
      "source": "dataset[\"species\"] = dataset[\"species\"].astype('category')\ndataset[\"Encoded_Species\"] = dataset[\"species\"].cat.codes",
      "execution_count": 4,
      "outputs": []
    },
    {
      "metadata": {
        "trusted": true
      },
      "cell_type": "code",
      "source": "print(dataset.head(5))",
      "execution_count": 5,
      "outputs": [
        {
          "output_type": "stream",
          "text": "   sepal_length  sepal_width  petal_length  petal_width      species  \\\n0           5.1          3.5           1.4          0.2  Iris-setosa   \n1           4.9          3.0           1.4          0.2  Iris-setosa   \n2           4.7          3.2           1.3          0.2  Iris-setosa   \n3           4.6          3.1           1.5          0.2  Iris-setosa   \n4           5.0          3.6           1.4          0.2  Iris-setosa   \n\n   Encoded_Species  \n0                0  \n1                0  \n2                0  \n3                0  \n4                0  \n",
          "name": "stdout"
        }
      ]
    },
    {
      "metadata": {
        "trusted": true
      },
      "cell_type": "code",
      "source": "#define X & Y\nX= dataset.iloc[:,0:4].values",
      "execution_count": 6,
      "outputs": []
    },
    {
      "metadata": {
        "trusted": true
      },
      "cell_type": "code",
      "source": "Y= dataset.iloc[:,5].values",
      "execution_count": 7,
      "outputs": []
    },
    {
      "metadata": {
        "trusted": true
      },
      "cell_type": "code",
      "source": "#split \nfrom sklearn.model_selection import train_test_split\nX_train, X_test,Y_train, Y_test= train_test_split(X,Y, test_size=0.1)\n\nresults = {}",
      "execution_count": 8,
      "outputs": []
    },
    {
      "metadata": {
        "trusted": true
      },
      "cell_type": "code",
      "source": "## Calculate Confision Matrix and F1 Score\ndef cal_result(Y_test, Y_pred):\n    from sklearn import metrics\n    confusionMatrix = metrics.confusion_matrix(Y_test, Y_pred)\n    f1 = metrics.f1_score(Y_test, Y_pred, average='micro')\n    accuracy = metrics.accuracy_score(Y_test, Y_pred)\n    return { 'confusionMatrix' : confusionMatrix, 'f1': f1, 'accuracy': accuracy} ",
      "execution_count": 9,
      "outputs": []
    },
    {
      "metadata": {},
      "cell_type": "markdown",
      "source": "## Logistics Regression"
    },
    {
      "metadata": {
        "trusted": true
      },
      "cell_type": "code",
      "source": "from sklearn.linear_model import LogisticRegression\nlogclass= LogisticRegression()\nlogclass.fit(X_train, Y_train)",
      "execution_count": 10,
      "outputs": [
        {
          "output_type": "stream",
          "text": "/home/nbuser/anaconda3_501/lib/python3.6/site-packages/sklearn/linear_model/logistic.py:433: FutureWarning: Default solver will be changed to 'lbfgs' in 0.22. Specify a solver to silence this warning.\n  FutureWarning)\n/home/nbuser/anaconda3_501/lib/python3.6/site-packages/sklearn/linear_model/logistic.py:460: FutureWarning: Default multi_class will be changed to 'auto' in 0.22. Specify the multi_class option to silence this warning.\n  \"this warning.\", FutureWarning)\n",
          "name": "stderr"
        },
        {
          "output_type": "execute_result",
          "execution_count": 10,
          "data": {
            "text/plain": "LogisticRegression(C=1.0, class_weight=None, dual=False, fit_intercept=True,\n          intercept_scaling=1, max_iter=100, multi_class='warn',\n          n_jobs=None, penalty='l2', random_state=None, solver='warn',\n          tol=0.0001, verbose=0, warm_start=False)"
          },
          "metadata": {}
        }
      ]
    },
    {
      "metadata": {
        "trusted": true
      },
      "cell_type": "code",
      "source": "Y_pred_logistic=logclass.predict(X_test)",
      "execution_count": 11,
      "outputs": []
    },
    {
      "metadata": {
        "trusted": true
      },
      "cell_type": "code",
      "source": "results['Logistic Regression'] = cal_result(Y_test, Y_pred_logistic)\nprint(results['Logistic Regression'])",
      "execution_count": 12,
      "outputs": [
        {
          "output_type": "stream",
          "text": "{'confusionMatrix': array([[7, 0, 0],\n       [0, 3, 1],\n       [0, 0, 4]]), 'f1': 0.9333333333333333, 'accuracy': 0.9333333333333333}\n",
          "name": "stdout"
        }
      ]
    },
    {
      "metadata": {},
      "cell_type": "markdown",
      "source": "## KNN Classifier"
    },
    {
      "metadata": {
        "trusted": true
      },
      "cell_type": "code",
      "source": "from sklearn.neighbors import KNeighborsClassifier\nknn= KNeighborsClassifier()\nknn.fit(X_train, Y_train)\nY_pred_knn= knn.predict(X_test)",
      "execution_count": 13,
      "outputs": []
    },
    {
      "metadata": {
        "trusted": true
      },
      "cell_type": "code",
      "source": "results['KNN Classifier'] = cal_result(Y_test, Y_pred_knn)\nprint(results['KNN Classifier'])",
      "execution_count": 14,
      "outputs": [
        {
          "output_type": "stream",
          "text": "{'confusionMatrix': array([[7, 0, 0],\n       [0, 4, 0],\n       [0, 0, 4]]), 'f1': 1.0, 'accuracy': 1.0}\n",
          "name": "stdout"
        }
      ]
    },
    {
      "metadata": {},
      "cell_type": "markdown",
      "source": "## Decision Tree"
    },
    {
      "metadata": {
        "trusted": true
      },
      "cell_type": "code",
      "source": "from sklearn.tree import DecisionTreeClassifier\n\n## Complete the code\ndtc= DecisionTreeClassifier()\ndtc.fit(X_train, Y_train)\nY_pred_decision= dtc.predict(X_test)",
      "execution_count": 15,
      "outputs": []
    },
    {
      "metadata": {
        "trusted": true
      },
      "cell_type": "code",
      "source": "results['Decision Tree'] = cal_result(Y_test, Y_pred_decision)\nprint(results['Decision Tree'])",
      "execution_count": 16,
      "outputs": [
        {
          "output_type": "stream",
          "text": "{'confusionMatrix': array([[7, 0, 0],\n       [0, 4, 0],\n       [0, 0, 4]]), 'f1': 1.0, 'accuracy': 1.0}\n",
          "name": "stdout"
        }
      ]
    },
    {
      "metadata": {},
      "cell_type": "markdown",
      "source": "## Random Forest"
    },
    {
      "metadata": {
        "trusted": true
      },
      "cell_type": "code",
      "source": "from sklearn.ensemble import RandomForestClassifier\n\n## Complete the code\nrfc= RandomForestClassifier()\nrfc.fit(X_train, Y_train)\nY_pred_random= rfc.predict(X_test)",
      "execution_count": 17,
      "outputs": [
        {
          "output_type": "stream",
          "text": "/home/nbuser/anaconda3_501/lib/python3.6/site-packages/sklearn/ensemble/forest.py:246: FutureWarning: The default value of n_estimators will change from 10 in version 0.20 to 100 in 0.22.\n  \"10 in version 0.20 to 100 in 0.22.\", FutureWarning)\n",
          "name": "stderr"
        }
      ]
    },
    {
      "metadata": {
        "trusted": true
      },
      "cell_type": "code",
      "source": "results['Random Forest'] = cal_result(Y_test, Y_pred_random)\nprint(results['Random Forest'])",
      "execution_count": 18,
      "outputs": [
        {
          "output_type": "stream",
          "text": "{'confusionMatrix': array([[7, 0, 0],\n       [0, 4, 0],\n       [0, 0, 4]]), 'f1': 1.0, 'accuracy': 1.0}\n",
          "name": "stdout"
        }
      ]
    },
    {
      "metadata": {},
      "cell_type": "markdown",
      "source": "## Which model performs best accuracy wise?"
    },
    {
      "metadata": {
        "trusted": true
      },
      "cell_type": "code",
      "source": "result = results.values()\ndef get_accuracy(res):\n    return res['accuracy']\nmax_accuracy = (max(result, key=get_accuracy))['accuracy']\nprint('Max Accuracy: ' + str(max_accuracy))\n\nprint('\\nBest Models:')\nfor (method, res) in results.items():\n    if(res['accuracy'] == max_accuracy):\n        print(method)\n",
      "execution_count": 19,
      "outputs": [
        {
          "output_type": "stream",
          "text": "Max Accuracy: 1.0\n\nBest Models:\nKNN Classifier\nDecision Tree\nRandom Forest\n",
          "name": "stdout"
        }
      ]
    },
    {
      "metadata": {
        "trusted": true
      },
      "cell_type": "code",
      "source": "",
      "execution_count": null,
      "outputs": []
    }
  ],
  "metadata": {
    "kernelspec": {
      "name": "python36",
      "display_name": "Python 3.6",
      "language": "python"
    },
    "language_info": {
      "mimetype": "text/x-python",
      "nbconvert_exporter": "python",
      "name": "python",
      "pygments_lexer": "ipython3",
      "version": "3.6.6",
      "file_extension": ".py",
      "codemirror_mode": {
        "version": 3,
        "name": "ipython"
      }
    }
  },
  "nbformat": 4,
  "nbformat_minor": 2
}