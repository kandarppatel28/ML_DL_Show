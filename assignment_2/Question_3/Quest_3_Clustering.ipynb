{
  "cells": [
    {
      "metadata": {
        "trusted": true
      },
      "cell_type": "code",
      "source": "#importing lib\nimport numpy as np\nimport pandas as pd",
      "execution_count": 1,
      "outputs": []
    },
    {
      "metadata": {
        "trusted": true
      },
      "cell_type": "code",
      "source": "dataset = pd.read_csv(\"datasets_wine-clustering.csv\")\nX = dataset.iloc[:,1:].values\nprint(X)",
      "execution_count": 2,
      "outputs": [
        {
          "output_type": "stream",
          "text": "[[1.710e+00 2.430e+00 1.560e+01 ... 1.040e+00 3.920e+00 1.065e+03]\n [1.780e+00 2.140e+00 1.120e+01 ... 1.050e+00 3.400e+00 1.050e+03]\n [2.360e+00 2.670e+00 1.860e+01 ... 1.030e+00 3.170e+00 1.185e+03]\n ...\n [4.280e+00 2.260e+00 2.000e+01 ... 5.900e-01 1.560e+00 8.350e+02]\n [2.590e+00 2.370e+00 2.000e+01 ... 6.000e-01 1.620e+00 8.400e+02]\n [4.100e+00 2.740e+00 2.450e+01 ... 6.100e-01 1.600e+00 5.600e+02]]\n",
          "name": "stdout"
        }
      ]
    },
    {
      "metadata": {
        "trusted": true
      },
      "cell_type": "code",
      "source": "#Elbow method\nfrom sklearn.cluster import KMeans\nimport matplotlib.pyplot as plt\n%matplotlib inline\n\ndistortions = []\nfor i in range(1, 11):\n    km = KMeans(n_clusters=i)\n    km.fit(X)\n    distortions.append(km.inertia_)\n\n# plot\nplt.plot(range(1, 11), distortions, marker='o')\nplt.xlabel('Number of clusters')\nplt.ylabel('Distortion')\nplt.show()",
      "execution_count": 3,
      "outputs": [
        {
          "output_type": "display_data",
          "data": {
            "image/png": "[encoded data removed]",
            "text/plain": "<Figure size 432x288 with 1 Axes>"
          },
          "metadata": {
            "needs_background": "light"
          }
        }
      ]
    },
    {
      "metadata": {
        "trusted": true
      },
      "cell_type": "code",
      "source": "kmeans = KMeans(n_clusters=2)\nkmeans = kmeans.fit(X)\nlabels = kmeans.predict(X)\ncentroids = kmeans.cluster_centers_\n\nprint(\"Centroid values\")\nprint(centroids)",
      "execution_count": 4,
      "outputs": [
        {
          "output_type": "stream",
          "text": "Centroid values\n[[2.54455285e+00 2.33910569e+00 2.04081301e+01 9.68130081e+01\n  2.06211382e+00 1.64146341e+00 3.92682927e-01 1.45406504e+00\n  4.85138211e+00 9.08617886e-01 2.40821138e+00 5.65869919e+02]\n [1.87072727e+00 2.42781818e+00 1.74527273e+01 1.06290909e+02\n  2.81618182e+00 2.89654545e+00 2.92909091e-01 1.89690909e+00\n  5.52036364e+00 1.06665455e+00 3.06672727e+00 1.15172727e+03]]\n",
          "name": "stdout"
        }
      ]
    },
    {
      "metadata": {
        "trusted": true
      },
      "cell_type": "code",
      "source": "",
      "execution_count": null,
      "outputs": []
    }
  ],
  "metadata": {
    "kernelspec": {
      "name": "python36",
      "display_name": "Python 3.6",
      "language": "python"
    },
    "language_info": {
      "mimetype": "text/x-python",
      "nbconvert_exporter": "python",
      "name": "python",
      "pygments_lexer": "ipython3",
      "version": "3.6.6",
      "file_extension": ".py",
      "codemirror_mode": {
        "version": 3,
        "name": "ipython"
      }
    }
  },
  "nbformat": 4,
  "nbformat_minor": 2
}