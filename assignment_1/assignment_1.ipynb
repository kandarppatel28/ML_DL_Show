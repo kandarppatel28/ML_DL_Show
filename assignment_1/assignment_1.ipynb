{
  "cells": [
    {
      "metadata": {
        "trusted": true
      },
      "cell_type": "code",
      "source": "import numpy as np\nimport matplotlib.pyplot as plt\nimport pandas as pd",
      "execution_count": 1,
      "outputs": [
        {
          "output_type": "stream",
          "text": "/home/nbuser/anaconda3_501/lib/python3.6/site-packages/matplotlib/font_manager.py:229: UserWarning: Matplotlib is building the font cache using fc-list. This may take a moment.\n  'Matplotlib is building the font cache using fc-list. '\n",
          "name": "stderr"
        }
      ]
    },
    {
      "metadata": {
        "trusted": true
      },
      "cell_type": "code",
      "source": "#import data set\ndataset= pd.read_csv('50_Startups.csv')\nX= dataset.iloc[:,:-2].values\nY= dataset.iloc[:,-1].values",
      "execution_count": 4,
      "outputs": []
    },
    {
      "metadata": {
        "trusted": true
      },
      "cell_type": "code",
      "source": "print(X)",
      "execution_count": 5,
      "outputs": [
        {
          "output_type": "stream",
          "text": "[[165349.2  136897.8  471784.1 ]\n [162597.7  151377.59 443898.53]\n [153441.51 101145.55 407934.54]\n [144372.41 118671.85 383199.62]\n [142107.34  91391.77 366168.42]\n [131876.9   99814.71 362861.36]\n [134615.46 147198.87 127716.82]\n [130298.13 145530.06 323876.68]\n [120542.52 148718.95 311613.29]\n [123334.88 108679.17 304981.62]\n [101913.08 110594.11 229160.95]\n [100671.96  91790.61 249744.55]\n [ 93863.75 127320.38 249839.44]\n [ 91992.39 135495.07 252664.93]\n [119943.24 156547.42 256512.92]\n [114523.61 122616.84 261776.23]\n [ 78013.11 121597.55 264346.06]\n [ 94657.16 145077.58 282574.31]\n [ 91749.16 114175.79 294919.57]\n [ 86419.7  153514.11      0.  ]\n [ 76253.86 113867.3  298664.47]\n [ 78389.47 153773.43 299737.29]\n [ 73994.56 122782.75 303319.26]\n [ 67532.53 105751.03 304768.73]\n [ 77044.01  99281.34 140574.81]\n [ 64664.71 139553.16 137962.62]\n [ 75328.87 144135.98 134050.07]\n [ 72107.6  127864.55 353183.81]\n [ 66051.52 182645.56 118148.2 ]\n [ 65605.48 153032.06 107138.38]\n [ 61994.48 115641.28  91131.24]\n [ 61136.38 152701.92  88218.23]\n [ 63408.86 129219.61  46085.25]\n [ 55493.95 103057.49 214634.81]\n [ 46426.07 157693.92 210797.67]\n [ 46014.02  85047.44 205517.64]\n [ 28663.76 127056.21 201126.82]\n [ 44069.95  51283.14 197029.42]\n [ 20229.59  65947.93 185265.1 ]\n [ 38558.51  82982.09 174999.3 ]\n [ 28754.33 118546.05 172795.67]\n [ 27892.92  84710.77 164470.71]\n [ 23640.93  96189.63 148001.11]\n [ 15505.73 127382.3   35534.17]\n [ 22177.74 154806.14  28334.72]\n [  1000.23 124153.04   1903.93]\n [  1315.46 115816.21 297114.46]\n [     0.   135426.92      0.  ]\n [   542.05  51743.15      0.  ]\n [     0.   116983.8   45173.06]]\n",
          "name": "stdout"
        }
      ]
    },
    {
      "metadata": {
        "trusted": true
      },
      "cell_type": "code",
      "source": "#Splitting the data\nfrom sklearn.model_selection import train_test_split\nX_train, X_test, Y_train, Y_test = train_test_split(X,Y,test_size= 1/9)",
      "execution_count": 12,
      "outputs": []
    },
    {
      "metadata": {
        "trusted": true
      },
      "cell_type": "code",
      "source": "print(X_train.shape, X_test.shape)",
      "execution_count": 14,
      "outputs": [
        {
          "output_type": "stream",
          "text": "(44, 3) (6, 3)\n",
          "name": "stdout"
        }
      ]
    },
    {
      "metadata": {
        "trusted": true
      },
      "cell_type": "code",
      "source": "#Fitting Simple Linear Regression \n#This is called Model \nfrom sklearn.linear_model import LinearRegression\nregressor= LinearRegression()\nregressor.fit(X_train,Y_train)\n\n##Predicting the test results\nY_pred= regressor.predict(X_test)",
      "execution_count": 15,
      "outputs": []
    },
    {
      "metadata": {
        "trusted": true
      },
      "cell_type": "code",
      "source": "Data=np.array([4230,2000,1232])\nY_manualtest= regressor.predict(Data.reshape(1,-1))\nprint(Y_manualtest)",
      "execution_count": 19,
      "outputs": [
        {
          "output_type": "stream",
          "text": "[52289.54866472]\n",
          "name": "stdout"
        }
      ]
    },
    {
      "metadata": {
        "trusted": true
      },
      "cell_type": "code",
      "source": "",
      "execution_count": null,
      "outputs": []
    }
  ],
  "metadata": {
    "kernelspec": {
      "name": "python36",
      "display_name": "Python 3.6",
      "language": "python"
    },
    "language_info": {
      "mimetype": "text/x-python",
      "nbconvert_exporter": "python",
      "name": "python",
      "pygments_lexer": "ipython3",
      "version": "3.6.6",
      "file_extension": ".py",
      "codemirror_mode": {
        "version": 3,
        "name": "ipython"
      }
    }
  },
  "nbformat": 4,
  "nbformat_minor": 2
}